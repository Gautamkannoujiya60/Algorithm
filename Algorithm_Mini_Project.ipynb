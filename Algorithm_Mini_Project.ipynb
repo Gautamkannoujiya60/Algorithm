{
 "cells": [
  {
   "cell_type": "markdown",
   "metadata": {
    "colab_type": "text",
    "id": "view-in-github"
   },
   "source": [
    "<a href=\"https://colab.research.google.com/github/AnkitJ-40/Algorithm/blob/main/ALGORITHM%2CAJ.ipynb\" target=\"_parent\"><img src=\"https://colab.research.google.com/assets/colab-badge.svg\" alt=\"Open In Colab\"/></a>"
   ]
  },
  {
   "cell_type": "code",
   "execution_count": 5,
   "metadata": {
    "colab": {
     "base_uri": "https://localhost:8080/"
    },
    "id": "nh3BKlHBXLBw",
    "outputId": "4708da2a-9123-482a-941d-caa786c136f4"
   },
   "outputs": [
    {
     "name": "stdout",
     "output_type": "stream",
     "text": [
      "How many elements are in list : 3\n",
      "3\n",
      "5\n",
      "8\n",
      "Maximum SubArray is: 16\n",
      "Start index of max_Sum: 0\n",
      "End index of max_Sum: 2\n"
     ]
    }
   ],
   "source": [
    "def MaxSubArray(MyList):\n",
    "  max_sum = 0\n",
    "  current_sum = 0\n",
    "\n",
    "  max_start = 0\n",
    "  max_end = 0\n",
    "  current_start = 0\n",
    "  current_end = 0\n",
    "\n",
    "  for i in range(len(MyList)): \n",
    "    current_sum = current_sum + MyList[i]\n",
    "    current_end = i\n",
    "    if current_sum < 0:\n",
    "      current_sum = 0\n",
    "      # Start a new sequence from next element\n",
    "      current_start = current_end + 1\n",
    "\n",
    "    if max_sum < current_sum:\n",
    "      max_sum = current_sum\n",
    "      max_start = current_start\n",
    "      max_end = current_end\n",
    "      \n",
    "  print(\"Maximum SubArray is:\", max_sum)\n",
    "  print(\"Start index of max_Sum:\", max_start)\n",
    "  print(\"End index of max_Sum:\", max_end)\n",
    "  \n",
    "# test the code                \n",
    "MyList = [int(input()) for i in range(int(input(\"How many elements are in list : \")))]\n",
    "MaxSubArray(MyList)"
   ]
  },
  {
   "cell_type": "code",
   "execution_count": 1,
   "metadata": {
    "colab": {
     "base_uri": "https://localhost:8080/"
    },
    "id": "7u5gLZ8zYrca",
    "outputId": "e26531d5-93fa-44ea-98be-e4fe3354479d"
   },
   "outputs": [
    {
     "name": "stdout",
     "output_type": "stream",
     "text": [
      "How many elements are in list : 8\n",
      "4\n",
      "8\n",
      "1\n",
      "3\n",
      "6\n",
      "7\n",
      "3\n",
      "2\n",
      "Sorted array is: \n",
      "1 2 3 3 4 6 7 8 \n"
     ]
    }
   ],
   "source": [
    "def mergeSort(array):\n",
    "    if len(array) > 1:\n",
    "\n",
    "        #  r is the point where the array is divided into two subarrays\n",
    "        r = len(array)//2\n",
    "        L = array[:r]\n",
    "        M = array[r:]\n",
    "\n",
    "        # Sort the two halves\n",
    "        mergeSort(L)\n",
    "        mergeSort(M)\n",
    "\n",
    "        i = j = k = 0\n",
    "\n",
    "        # Until we reach either end of either L or M, pick larger among\n",
    "        # elements L and M and place them in the correct position at A[p..r]\n",
    "        while i < len(L) and j < len(M):\n",
    "            if L[i] < M[j]:\n",
    "                array[k] = L[i]\n",
    "                i += 1\n",
    "            else:\n",
    "                array[k] = M[j]\n",
    "                j += 1\n",
    "            k += 1\n",
    "\n",
    "        # When we run out of elements in either L or M,\n",
    "        # pick up the remaining elements and put in A[p..r]\n",
    "        while i < len(L):\n",
    "            array[k] = L[i]\n",
    "            i += 1\n",
    "            k += 1\n",
    "\n",
    "        while j < len(M):\n",
    "            array[k] = M[j]\n",
    "            j += 1\n",
    "            k += 1\n",
    "\n",
    "\n",
    "# Print the array\n",
    "def printList(array):\n",
    "    for i in range(len(array)):\n",
    "        print(array[i], end=\" \")\n",
    "    print()\n",
    "\n",
    "\n",
    "# Driver program\n",
    "if __name__ == '__main__':\n",
    "    array = [int(input()) for i in range(int(input(\"How many elements are in list : \")))]\n",
    "\n",
    "    mergeSort(array)\n",
    "\n",
    "    print(\"Sorted array is: \")\n",
    "    printList(array)"
   ]
  },
  {
   "cell_type": "code",
   "execution_count": null,
   "metadata": {
    "id": "DaRV-eNXY-ar"
   },
   "outputs": [],
   "source": []
  }
 ],
 "metadata": {
  "colab": {
   "authorship_tag": "ABX9TyPN9glvIJDqQhefK7UjkREn",
   "include_colab_link": true,
   "name": "ALGORITHM,AJ.ipynb",
   "provenance": []
  },
  "kernelspec": {
   "display_name": "Python 3",
   "language": "python",
   "name": "python3"
  },
  "language_info": {
   "codemirror_mode": {
    "name": "ipython",
    "version": 3
   },
   "file_extension": ".py",
   "mimetype": "text/x-python",
   "name": "python",
   "nbconvert_exporter": "python",
   "pygments_lexer": "ipython3",
   "version": "3.8.8"
  }
 },
 "nbformat": 4,
 "nbformat_minor": 1
}
