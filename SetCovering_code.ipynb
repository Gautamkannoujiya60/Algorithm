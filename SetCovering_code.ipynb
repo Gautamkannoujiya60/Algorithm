{
 "cells": [
  {
   "cell_type": "markdown",
   "metadata": {
    "colab_type": "text",
    "id": "view-in-github"
   },
   "source": [
    "<a href=\"https://colab.research.google.com/github/AnkitJ-40/Algorithm/blob/main/SetCoveringAJ.ipynb\" target=\"_parent\"><img src=\"https://colab.research.google.com/assets/colab-badge.svg\" alt=\"Open In Colab\"/></a>"
   ]
  },
  {
   "cell_type": "code",
   "execution_count": 1,
   "metadata": {
    "colab": {
     "base_uri": "https://localhost:8080/"
    },
    "id": "fRev7JhBfaIA",
    "outputId": "87755de2-f8ef-4374-e320-db31716fbd26"
   },
   "outputs": [
    {
     "name": "stdout",
     "output_type": "stream",
     "text": [
      "[{1, 2, 4, 8, 9, 11}, {1, 2, 3, 4, 5}, {1, 2, 7, 8, 10}, {9, 5, 6}]\n"
     ]
    }
   ],
   "source": [
    "def set_cover(universe, subsets):\n",
    "    \"\"\"Find a family of subsets that covers the universal set\"\"\"\n",
    "    elements = set(e for s in subsets for e in s)\n",
    "    # Check the subsets cover the universe\n",
    "    if elements != universe:\n",
    "        return None\n",
    "    covered = set()\n",
    "    cover = []\n",
    "    # Greedily add the subsets with the most uncovered points\n",
    "    while covered != elements:\n",
    "        subset = max(subsets, key=lambda s: len(s - covered))\n",
    "        cover.append(subset)\n",
    "        covered |= subset\n",
    " \n",
    "    return cover\n",
    " \n",
    "def main():\n",
    "    universe = set(range(1, 12))\n",
    "    subsets = [set([1, 2, 4, 8, 9, 11]),\n",
    "        set([1, 2, 3, 4, 5]),\n",
    "        set([3, 5, 4]),\n",
    "        set([5, 6, 9]),\n",
    "        set([8, 7, 1, 2, 10])]\n",
    "    cover = set_cover(universe, subsets)\n",
    "    print(cover)\n",
    " \n",
    "if __name__ == '__main__':\n",
    "    main()"
   ]
  },
  {
   "cell_type": "code",
   "execution_count": null,
   "metadata": {},
   "outputs": [],
   "source": []
  }
 ],
 "metadata": {
  "colab": {
   "authorship_tag": "ABX9TyObq5xUFArcWtxGN9e3rBNb",
   "include_colab_link": true,
   "name": "SetCoveringAJ.ipynb",
   "provenance": []
  },
  "kernelspec": {
   "display_name": "Python 3",
   "language": "python",
   "name": "python3"
  },
  "language_info": {
   "codemirror_mode": {
    "name": "ipython",
    "version": 3
   },
   "file_extension": ".py",
   "mimetype": "text/x-python",
   "name": "python",
   "nbconvert_exporter": "python",
   "pygments_lexer": "ipython3",
   "version": "3.8.8"
  }
 },
 "nbformat": 4,
 "nbformat_minor": 1
}
