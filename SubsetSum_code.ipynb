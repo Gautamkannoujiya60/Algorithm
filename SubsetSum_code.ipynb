{
 "cells": [
  {
   "cell_type": "markdown",
   "metadata": {
    "colab_type": "text",
    "id": "view-in-github"
   },
   "source": [
    "<a href=\"https://colab.research.google.com/github/AnkitJ-40/Algorithm/blob/main/SubsetSumAJ.ipynb\" target=\"_parent\"><img src=\"https://colab.research.google.com/assets/colab-badge.svg\" alt=\"Open In Colab\"/></a>"
   ]
  },
  {
   "cell_type": "code",
   "execution_count": 2,
   "metadata": {
    "colab": {
     "base_uri": "https://localhost:8080/"
    },
    "id": "3ipPR_m1fyV1",
    "outputId": "2e6dad66-d4ec-4191-9621-231c31c6422d"
   },
   "outputs": [
    {
     "name": "stdout",
     "output_type": "stream",
     "text": [
      "No subset with given sum\n"
     ]
    }
   ],
   "source": [
    "# A recursive solution for subset sum \n",
    "# problem \n",
    "  \n",
    "# Returns true if there is a subset  \n",
    "# of set[] with sun equal to given sum \n",
    "def isSubsetSum(set,n, sum) : \n",
    "    \n",
    "    # Base Cases \n",
    "    if (sum == 0) : \n",
    "        return True\n",
    "    if (n == 0 and sum != 0) : \n",
    "        return False\n",
    "   \n",
    "    # If last element is greater than \n",
    "    # sum, then ignore it \n",
    "    if (set[n - 1] > sum) : \n",
    "        return isSubsetSum(set, n - 1, sum); \n",
    "   \n",
    "    # else, check if sum can be obtained \n",
    "    # by any of the following \n",
    "    # (a) including the last element \n",
    "    # (b) excluding the last element    \n",
    "    return isSubsetSum(set, n-1, sum) or isSubsetSum(set, n-1, sum-set[n-1]) \n",
    "      \n",
    "      \n",
    "# Driver program to test above function \n",
    "set = [5,8,9,20,7,9,6] \n",
    "sum = 80\n",
    "n = len(set) \n",
    "if (isSubsetSum(set, n, sum) == True) : \n",
    "    print(\"Found a subset with given sum\") \n",
    "else : \n",
    "    print(\"No subset with given sum\")"
   ]
  },
  {
   "cell_type": "code",
   "execution_count": null,
   "metadata": {},
   "outputs": [],
   "source": []
  }
 ],
 "metadata": {
  "colab": {
   "authorship_tag": "ABX9TyM1bC7Ip5mBNuAbVJv/NeyS",
   "include_colab_link": true,
   "name": "SubsetSumAJ.ipynb",
   "provenance": []
  },
  "kernelspec": {
   "display_name": "Python 3",
   "language": "python",
   "name": "python3"
  },
  "language_info": {
   "codemirror_mode": {
    "name": "ipython",
    "version": 3
   },
   "file_extension": ".py",
   "mimetype": "text/x-python",
   "name": "python",
   "nbconvert_exporter": "python",
   "pygments_lexer": "ipython3",
   "version": "3.8.8"
  }
 },
 "nbformat": 4,
 "nbformat_minor": 1
}
