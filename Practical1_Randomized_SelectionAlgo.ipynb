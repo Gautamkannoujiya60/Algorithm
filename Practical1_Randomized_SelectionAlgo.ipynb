{
 "cells": [
  {
   "cell_type": "markdown",
   "metadata": {
    "colab_type": "text",
    "id": "view-in-github"
   },
   "source": [
    "<a href=\"https://colab.research.google.com/github/AnkitJ-40/Algorithm/blob/main/Practical1_RandomizedSelectionAlgo.ipynb\" target=\"_parent\"><img src=\"https://colab.research.google.com/assets/colab-badge.svg\" alt=\"Open In Colab\"/></a>"
   ]
  },
  {
   "cell_type": "code",
   "execution_count": 1,
   "metadata": {
    "colab": {
     "base_uri": "https://localhost:8080/"
    },
    "id": "JVBPDlE1b0_U",
    "outputId": "9d928fe6-26a4-41ab-84fb-ff009b26004f"
   },
   "outputs": [
    {
     "name": "stdout",
     "output_type": "stream",
     "text": [
      "0\n",
      "1\n",
      "2\n",
      "5\n",
      "6\n",
      "7\n",
      "8\n",
      "9\n"
     ]
    }
   ],
   "source": [
    "from random import randrange\n",
    "\n",
    "def partition(x, pivot_index = 0):\n",
    "    i = 0\n",
    "    if pivot_index !=0: x[0],x[pivot_index] = x[pivot_index],x[0]\n",
    "    for j in range(len(x)-1):\n",
    "        if x[j+1] < x[0]:\n",
    "            x[j+1],x[i+1] = x[i+1],x[j+1]\n",
    "            i += 1\n",
    "    x[0],x[i] = x[i],x[0]\n",
    "    return x,i\n",
    "\n",
    "def RSelect(x,k):\n",
    "    if len(x) == 1:\n",
    "        return x[0]\n",
    "    else:\n",
    "        xpart = partition(x,randrange(len(x)))\n",
    "        x = xpart[0] # partitioned array\n",
    "        j = xpart[1] # pivot index\n",
    "        if j == k:\n",
    "            return x[j]\n",
    "        elif j > k:\n",
    "            return RSelect(x[:j],k)\n",
    "        else:\n",
    "            k = k - j - 1\n",
    "            return RSelect(x[(j+1):], k)\n",
    "        \n",
    "x = [5,8,9,0,6,7,2,1]\n",
    "for i in range(len(x)):\n",
    "    print (RSelect(x,i))"
   ]
  },
  {
   "cell_type": "code",
   "execution_count": null,
   "metadata": {},
   "outputs": [],
   "source": []
  }
 ],
 "metadata": {
  "colab": {
   "authorship_tag": "ABX9TyNT0Bk/4PdOaUe5xc0j/JSL",
   "include_colab_link": true,
   "name": "Practical1_RandomizedSelectionAlgo.ipynb",
   "provenance": []
  },
  "kernelspec": {
   "display_name": "Python 3",
   "language": "python",
   "name": "python3"
  },
  "language_info": {
   "codemirror_mode": {
    "name": "ipython",
    "version": 3
   },
   "file_extension": ".py",
   "mimetype": "text/x-python",
   "name": "python",
   "nbconvert_exporter": "python",
   "pygments_lexer": "ipython3",
   "version": "3.8.8"
  }
 },
 "nbformat": 4,
 "nbformat_minor": 1
}
